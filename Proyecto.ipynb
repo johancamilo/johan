{
  "nbformat": 4,
  "nbformat_minor": 0,
  "metadata": {
    "colab": {
      "name": "Proyecto.ipynb",
      "provenance": [],
      "collapsed_sections": [],
      "authorship_tag": "ABX9TyOkASTaaAXXB8dmGzFZG5AX",
      "include_colab_link": true
    },
    "kernelspec": {
      "name": "python3",
      "display_name": "Python 3"
    },
    "language_info": {
      "name": "python"
    }
  },
  "cells": [
    {
      "cell_type": "markdown",
      "metadata": {
        "id": "view-in-github",
        "colab_type": "text"
      },
      "source": [
        "<a href=\"https://colab.research.google.com/github/johancamilo/johan/blob/master/Proyecto.ipynb\" target=\"_parent\"><img src=\"https://colab.research.google.com/assets/colab-badge.svg\" alt=\"Open In Colab\"/></a>"
      ]
    },
    {
      "cell_type": "markdown",
      "metadata": {
        "id": "bm7pN_Y6VJxe"
      },
      "source": [
        "> #  **Descripcion de los datos**\n",
        "\n",
        "| Data Set Characteristics | Attribute Characteristics | Associated Tasks |\n",
        "| ----- | --- | ----- |\n",
        "| Multivariate | Integer, Real | Classification|\n",
        "\n",
        "<br>\n",
        "\n",
        "| Number of Instances | Number of Attributes | Missing Values? |\n",
        "| ----- | --- | ----- |\n",
        "| 178 | 13 | No|\n",
        "\n",
        "<br>\n",
        "\n",
        "| Area | Date Donated | Number of Web Hits |\n",
        "| ----- | --- | ----- |\n",
        "| Physical | 1991-07-01 | 1758016 |"
      ]
    },
    {
      "cell_type": "code",
      "metadata": {
        "id": "8x_wKILQZ6jt"
      },
      "source": [
        "import pandas as pd\n",
        "import matplotlib.pyplot as plt\n",
        "import numpy as np"
      ],
      "execution_count": 3,
      "outputs": []
    },
    {
      "cell_type": "code",
      "metadata": {
        "colab": {
          "base_uri": "https://localhost:8080/"
        },
        "id": "J8vL2kCVaTIa",
        "outputId": "90fc4fba-7a28-4ff5-808d-803e1b3cc2d5"
      },
      "source": [
        "winedata = pd.read_csv('wine.data.txt')\n",
        "print(winedata)"
      ],
      "execution_count": 7,
      "outputs": [
        {
          "output_type": "stream",
          "name": "stdout",
          "text": [
            "     Class  Alcohol   Malic_acid   Ash  ...  Color   Hue   OD280/OD315   Proline    \n",
            "0        1    14.23         1.71  2.43  ...   5.64  1.04          3.92          1065\n",
            "1        1    13.20         1.78  2.14  ...   4.38  1.05          3.40          1050\n",
            "2        1    13.16         2.36  2.67  ...   5.68  1.03          3.17          1185\n",
            "3        1    14.37         1.95  2.50  ...   7.80  0.86          3.45          1480\n",
            "4        1    13.24         2.59  2.87  ...   4.32  1.04          2.93           735\n",
            "..     ...      ...          ...   ...  ...    ...   ...           ...           ...\n",
            "173      3    13.71         5.65  2.45  ...   7.70  0.64          1.74           740\n",
            "174      3    13.40         3.91  2.48  ...   7.30  0.70          1.56           750\n",
            "175      3    13.27         4.28  2.26  ...  10.20  0.59          1.56           835\n",
            "176      3    13.17         2.59  2.37  ...   9.30  0.60          1.62           840\n",
            "177      3    14.13         4.10  2.74  ...   9.20  0.61          1.60           560\n",
            "\n",
            "[178 rows x 14 columns]\n"
          ]
        }
      ]
    },
    {
      "cell_type": "code",
      "metadata": {
        "id": "Sk73folne-Ns",
        "colab": {
          "base_uri": "https://localhost:8080/",
          "height": 279
        },
        "outputId": "4b4dcbe5-6666-443b-9328-c90c892b7cb5"
      },
      "source": [
        "my_plot = winedata.plot(\"Alcohol\", \"Class\", kind=\"scatter\")"
      ],
      "execution_count": 10,
      "outputs": [
        {
          "output_type": "display_data",
          "data": {
            "image/png": "[encoded data removed]",
            "text/plain": [
              "<Figure size 432x288 with 1 Axes>"
            ]
          },
          "metadata": {
            "needs_background": "light"
          }
        }
      ]
    },
    {
      "cell_type": "code",
      "metadata": {
        "colab": {
          "base_uri": "https://localhost:8080/",
          "height": 279
        },
        "id": "Ygo1wUTMe6ai",
        "outputId": "21d3fd18-84a8-46ce-e6e7-34b7c803264c"
      },
      "source": [
        "data = winedata['Class']\n",
        "bins = np.arange(min(data), max(data) + 1, 1)\n",
        "plt.hist(data, bins = bins, histtype=\"step\", alpha = 0.9)\n",
        "plt.ylabel('Conteo')\n",
        "plt.xlabel('Valores de la clase')\n",
        "\n",
        "plt.show()"
      ],
      "execution_count": 9,
      "outputs": [
        {
          "output_type": "display_data",
          "data": {
            "image/png": "[encoded data removed]",
            "text/plain": [
              "<Figure size 432x288 with 1 Axes>"
            ]
          },
          "metadata": {
            "needs_background": "light"
          }
        }
      ]
    }
  ]
}